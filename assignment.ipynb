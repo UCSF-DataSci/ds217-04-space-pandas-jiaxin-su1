{
 "cells": [
  {
   "cell_type": "markdown",
   "id": "0b16dc9a",
   "metadata": {},
   "source": [
    "## Instructions\n",
    "\n",
    "Complete the three questions below. Each question builds on the previous one.\n",
    "\n",
    "**Important:**\n",
    "- Run cells in order from top to bottom\n",
    "- Each question must save a CSV file to the `output/` directory\n",
    "- Test your work locally before submitting: `pytest .github/test/test_assignment.py -v`\n",
    "- Before final submission: Restart kernel and \"Run All\" to verify everything works\n",
    "\n",
    "---\n",
    "\n",
    "## Setup\n",
    "\n",
    "Run this cell first to import libraries and create the output directory:"
   ]
  },
  {
   "cell_type": "code",
   "execution_count": 13,
   "id": "b8e9e88c",
   "metadata": {},
   "outputs": [
    {
     "name": "stdout",
     "output_type": "stream",
     "text": [
      "✓ Setup complete\n"
     ]
    }
   ],
   "source": [
    "import pandas as pd\n",
    "import numpy as np\n",
    "import os\n",
    "# need to install packages you need whenever you set up a new environment\n",
    "# Create output directory\n",
    "os.makedirs('output', exist_ok=True)\n",
    "\n",
    "print(\"✓ Setup complete\")"
   ]
  },
  {
   "cell_type": "markdown",
   "id": "ff00bfd2",
   "metadata": {},
   "source": [
    "---\n",
    "\n",
    "## Question 1: Data Loading & Exploration\n",
    "\n",
    "**Objective:** Load the dataset, select specific columns, perform basic inspection, and generate summary statistics.\n",
    "\n",
    "### Part A: Load and Inspect the Data\n",
    "\n",
    "Load `data/customer_purchases.csv` and display basic information about the dataset."
   ]
  },
  {
   "cell_type": "code",
   "execution_count": 14,
   "id": "5927f444",
   "metadata": {},
   "outputs": [
    {
     "name": "stdout",
     "output_type": "stream",
     "text": [
      "(15000, 9)\n",
      "  purchase_id customer_id product_category product_name  quantity  \\\n",
      "0      P00001       C0147            Books        Shoes       1.0   \n",
      "1      P00002       C0061    Home & Garden          Hat       1.0   \n",
      "2      P00003       C0394    Home & Garden      T-Shirt       4.0   \n",
      "3      P00004       C0343           Sports     Yoga Mat       2.0   \n",
      "4      P00005       C0022            Books          Rug       5.0   \n",
      "\n",
      "   price_per_item purchase_date customer_state shipping_method  \n",
      "0          451.68    2024-08-12             IL       Overnight  \n",
      "1          352.84    2024-03-29             WA        Standard  \n",
      "2          120.66    2024-07-11             FL        Standard  \n",
      "3          374.80    2024-09-08             CA        Standard  \n",
      "4          311.48    2024-06-28             NY         Express  \n",
      "<class 'pandas.core.frame.DataFrame'>\n",
      "RangeIndex: 15000 entries, 0 to 14999\n",
      "Data columns (total 9 columns):\n",
      " #   Column            Non-Null Count  Dtype  \n",
      "---  ------            --------------  -----  \n",
      " 0   purchase_id       15000 non-null  object \n",
      " 1   customer_id       15000 non-null  object \n",
      " 2   product_category  15000 non-null  object \n",
      " 3   product_name      15000 non-null  object \n",
      " 4   quantity          14400 non-null  float64\n",
      " 5   price_per_item    15000 non-null  float64\n",
      " 6   purchase_date     15000 non-null  object \n",
      " 7   customer_state    15000 non-null  object \n",
      " 8   shipping_method   14400 non-null  object \n",
      "dtypes: float64(2), object(7)\n",
      "memory usage: 1.0+ MB\n",
      "None\n"
     ]
    }
   ],
   "source": [
    "# TODO: Load the CSV file into a DataFrame called 'df'\n",
    "df = pd.read_csv('data/customer_purchases.csv')  # Replace with pd.read_csv(...)\n",
    "\n",
    "\n",
    "# TODO: Display the shape of the DataFrame\n",
    "# Hint: Use .shape\n",
    "print(df.shape)\n",
    "\n",
    "# TODO: Display the first 5 rows\n",
    "# Hint: Use .head()\n",
    "print(df.head())\n",
    "\n",
    "# TODO: Display column names and data types\n",
    "# Hint: Use .info()\n",
    "print(df.info())"
   ]
  },
  {
   "cell_type": "markdown",
   "id": "14e36a27",
   "metadata": {},
   "source": [
    "### Part B: Check for Missing Values\n",
    "\n",
    "Identify which columns have missing values and how many."
   ]
  },
  {
   "cell_type": "code",
   "execution_count": 15,
   "id": "19082e14",
   "metadata": {},
   "outputs": [
    {
     "data": {
      "text/plain": [
       "purchase_id           0\n",
       "customer_id           0\n",
       "product_category      0\n",
       "product_name          0\n",
       "quantity            600\n",
       "price_per_item        0\n",
       "purchase_date         0\n",
       "customer_state        0\n",
       "shipping_method     600\n",
       "dtype: int64"
      ]
     },
     "execution_count": 15,
     "metadata": {},
     "output_type": "execute_result"
    }
   ],
   "source": [
    "# TODO: Display the count of missing values for each column\n",
    "# Hint: Use .isnull().sum()\n",
    "\n",
    "df.isnull().sum()"
   ]
  },
  {
   "cell_type": "markdown",
   "id": "d384d35c",
   "metadata": {},
   "source": [
    "### Part C: Select Numeric Columns\n",
    "\n",
    "Create a new DataFrame containing only the numeric columns from the original data."
   ]
  },
  {
   "cell_type": "code",
   "execution_count": 16,
   "id": "19072226",
   "metadata": {},
   "outputs": [
    {
     "data": {
      "text/html": [
       "<div>\n",
       "<style scoped>\n",
       "    .dataframe tbody tr th:only-of-type {\n",
       "        vertical-align: middle;\n",
       "    }\n",
       "\n",
       "    .dataframe tbody tr th {\n",
       "        vertical-align: top;\n",
       "    }\n",
       "\n",
       "    .dataframe thead th {\n",
       "        text-align: right;\n",
       "    }\n",
       "</style>\n",
       "<table border=\"1\" class=\"dataframe\">\n",
       "  <thead>\n",
       "    <tr style=\"text-align: right;\">\n",
       "      <th></th>\n",
       "      <th>quantity</th>\n",
       "      <th>price_per_item</th>\n",
       "    </tr>\n",
       "  </thead>\n",
       "  <tbody>\n",
       "    <tr>\n",
       "      <th>0</th>\n",
       "      <td>1.0</td>\n",
       "      <td>451.68</td>\n",
       "    </tr>\n",
       "    <tr>\n",
       "      <th>1</th>\n",
       "      <td>1.0</td>\n",
       "      <td>352.84</td>\n",
       "    </tr>\n",
       "    <tr>\n",
       "      <th>2</th>\n",
       "      <td>4.0</td>\n",
       "      <td>120.66</td>\n",
       "    </tr>\n",
       "    <tr>\n",
       "      <th>3</th>\n",
       "      <td>2.0</td>\n",
       "      <td>374.80</td>\n",
       "    </tr>\n",
       "    <tr>\n",
       "      <th>4</th>\n",
       "      <td>5.0</td>\n",
       "      <td>311.48</td>\n",
       "    </tr>\n",
       "  </tbody>\n",
       "</table>\n",
       "</div>"
      ],
      "text/plain": [
       "   quantity  price_per_item\n",
       "0       1.0          451.68\n",
       "1       1.0          352.84\n",
       "2       4.0          120.66\n",
       "3       2.0          374.80\n",
       "4       5.0          311.48"
      ]
     },
     "execution_count": 16,
     "metadata": {},
     "output_type": "execute_result"
    }
   ],
   "source": [
    "# TODO: Select only numeric columns into a new DataFrame called 'df_numeric'\n",
    "# Hint: Use .select_dtypes(include=['number'])\n",
    "df_numeric = df.select_dtypes(include=['number'])  # Replace with your code\n",
    "df_numeric.head()"
   ]
  },
  {
   "cell_type": "markdown",
   "id": "b7cceb93",
   "metadata": {},
   "source": [
    "### Part D: Generate Summary Statistics\n",
    "\n",
    "Calculate summary statistics for the numeric columns."
   ]
  },
  {
   "cell_type": "code",
   "execution_count": 17,
   "id": "c027e321",
   "metadata": {},
   "outputs": [
    {
     "name": "stdout",
     "output_type": "stream",
     "text": [
      "           quantity  price_per_item\n",
      "count  14400.000000    15000.000000\n",
      "mean       3.005000      253.517283\n",
      "std        1.416658      141.440121\n",
      "min        1.000000       10.090000\n",
      "25%        2.000000      130.582500\n",
      "50%        3.000000      254.580000\n",
      "75%        4.000000      375.612500\n",
      "max        5.000000      499.960000\n"
     ]
    }
   ],
   "source": [
    "# TODO: Generate summary statistics for df_numeric\n",
    "# Hint: Use .describe()\n",
    "summary_statistic = df_numeric.describe()\n",
    "print(summary_statistic)\n",
    "# TODO: Save the summary statistics to 'output/exploration_summary.csv'\n",
    "# Hint: Use .to_csv()\n",
    "# Example: summary_stats.to_csv('output/exploration_summary.csv')\n",
    "summary_statistic.to_csv('output/exploration_summary.csv')"
   ]
  },
  {
   "cell_type": "markdown",
   "id": "a5c4f4f5",
   "metadata": {},
   "source": [
    "**Expected output file:** `output/exploration_summary.csv` containing summary statistics (count, mean, std, min, 25%, 50%, 75%, max) for numeric columns.\n",
    "\n",
    "---\n",
    "\n",
    "## Question 2: Data Cleaning & Transformation\n",
    "\n",
    "**Objective:** Handle missing values, convert data types, filter the data, and save the cleaned dataset.\n",
    "\n",
    "### Part A: Handle Missing Values\n",
    "\n",
    "Fill missing values in the `quantity` column with 1, and drop rows where `shipping_method` is missing."
   ]
  },
  {
   "cell_type": "code",
   "execution_count": 18,
   "id": "ccfbd5e6",
   "metadata": {},
   "outputs": [
    {
     "data": {
      "text/plain": [
       "purchase_id         0\n",
       "customer_id         0\n",
       "product_category    0\n",
       "product_name        0\n",
       "quantity            0\n",
       "price_per_item      0\n",
       "purchase_date       0\n",
       "customer_state      0\n",
       "shipping_method     0\n",
       "dtype: int64"
      ]
     },
     "execution_count": 18,
     "metadata": {},
     "output_type": "execute_result"
    }
   ],
   "source": [
    "# TODO: Fill missing 'quantity' values with 1\n",
    "# Hint: Use .fillna()\n",
    "df['quantity'] = df['quantity'].fillna(1)\n",
    "\n",
    "# TODO: Drop rows where 'shipping_method' is missing\n",
    "# Hint: Use .dropna(subset=['column_name'])\n",
    "df = df.dropna(subset=['shipping_method'])\n",
    "\n",
    "# TODO: Verify no missing values remain in 'quantity' and 'shipping_method'\n",
    "# Hint: Use .isnull().sum()\n",
    "df.isnull().sum()"
   ]
  },
  {
   "cell_type": "markdown",
   "id": "f9eb921d",
   "metadata": {},
   "source": [
    "### Part B: Convert Data Types\n",
    "\n",
    "Convert the `purchase_date` column from string to datetime, and `quantity` to integer."
   ]
  },
  {
   "cell_type": "code",
   "execution_count": 19,
   "id": "9ce1fc13",
   "metadata": {},
   "outputs": [
    {
     "data": {
      "text/plain": [
       "purchase_id                 object\n",
       "customer_id                 object\n",
       "product_category            object\n",
       "product_name                object\n",
       "quantity                     int64\n",
       "price_per_item             float64\n",
       "purchase_date       datetime64[ns]\n",
       "customer_state              object\n",
       "shipping_method             object\n",
       "dtype: object"
      ]
     },
     "execution_count": 19,
     "metadata": {},
     "output_type": "execute_result"
    }
   ],
   "source": [
    "# TODO: Convert 'purchase_date' to datetime\n",
    "# Hint: Use pd.to_datetime()\n",
    "df[\"purchase_date\"] = pd.to_datetime(df[\"purchase_date\"])\n",
    "\n",
    "# TODO: Convert 'quantity' to integer type\n",
    "# Hint: Use .astype('int64')\n",
    "df[\"quantity\"] = df['quantity'].astype('int64')\n",
    "\n",
    "# TODO: Verify the data types changed\n",
    "# Hint: Use .dtypes\n",
    "df.dtypes\n"
   ]
  },
  {
   "cell_type": "markdown",
   "id": "a532b8da",
   "metadata": {},
   "source": [
    "### Part C: Filter the Data\n",
    "\n",
    "Keep only purchases from California (CA) and New York (NY) with quantity greater than or equal to 2."
   ]
  },
  {
   "cell_type": "code",
   "execution_count": null,
   "id": "a68bea3e",
   "metadata": {},
   "outputs": [
    {
     "data": {
      "text/plain": [
       "3581"
      ]
     },
     "execution_count": 27,
     "metadata": {},
     "output_type": "execute_result"
    }
   ],
   "source": [
    "# TODO: Filter the DataFrame to keep only:\n",
    "#       - customer_state is 'CA' or 'NY'\n",
    "#       - quantity >= 2\n",
    "# Hint: Use boolean indexing with &\n",
    "# Hint: Use .isin(['CA', 'NY']) for multiple values\n",
    "df_filtered = df[df['customer_state'].isin(['CA', 'NY']) & (df['quantity'] >= 2)]\n",
    "df_filtered\n",
    "\n",
    "# TODO: Display how many rows remain after filtering\n",
    "len(df_filtered)\n"
   ]
  },
  {
   "cell_type": "markdown",
   "id": "022ee50f",
   "metadata": {},
   "source": [
    "### Part D: Save Cleaned Data\n",
    "\n",
    "Save the cleaned and filtered DataFrame."
   ]
  },
  {
   "cell_type": "code",
   "execution_count": 29,
   "id": "9abcc74b",
   "metadata": {},
   "outputs": [],
   "source": [
    "# TODO: Save df_filtered to 'output/cleaned_data.csv' (without the index)\n",
    "# Hint: Use .to_csv('filename.csv', index=False)\n",
    "df_filtered.to_csv('output/cleaned_data.csv', index=False)"
   ]
  },
  {
   "cell_type": "markdown",
   "id": "347b080b",
   "metadata": {},
   "source": [
    "**Expected output file:** `output/cleaned_data.csv` containing the cleaned and filtered data (no missing values in quantity/shipping_method, only CA/NY states, quantity >= 2, datetime and integer types).\n",
    "\n",
    "---\n",
    "\n",
    "## Question 3: Analysis & Aggregation\n",
    "\n",
    "**Objective:** Create calculated columns, perform groupby aggregations, find top products, and save results.\n",
    "\n",
    "**Note:** Use the cleaned DataFrame (`df_filtered`) from Question 2 for this question.\n",
    "\n",
    "### Part A: Create a Calculated Column\n",
    "\n",
    "Create a new column `total_price` by multiplying `quantity` and `price_per_item`."
   ]
  },
  {
   "cell_type": "code",
   "execution_count": 31,
   "id": "63695cb3",
   "metadata": {},
   "outputs": [
    {
     "data": {
      "text/html": [
       "<div>\n",
       "<style scoped>\n",
       "    .dataframe tbody tr th:only-of-type {\n",
       "        vertical-align: middle;\n",
       "    }\n",
       "\n",
       "    .dataframe tbody tr th {\n",
       "        vertical-align: top;\n",
       "    }\n",
       "\n",
       "    .dataframe thead th {\n",
       "        text-align: right;\n",
       "    }\n",
       "</style>\n",
       "<table border=\"1\" class=\"dataframe\">\n",
       "  <thead>\n",
       "    <tr style=\"text-align: right;\">\n",
       "      <th></th>\n",
       "      <th>purchase_id</th>\n",
       "      <th>customer_id</th>\n",
       "      <th>product_category</th>\n",
       "      <th>product_name</th>\n",
       "      <th>quantity</th>\n",
       "      <th>price_per_item</th>\n",
       "      <th>purchase_date</th>\n",
       "      <th>customer_state</th>\n",
       "      <th>shipping_method</th>\n",
       "      <th>total_price</th>\n",
       "    </tr>\n",
       "  </thead>\n",
       "  <tbody>\n",
       "    <tr>\n",
       "      <th>3</th>\n",
       "      <td>P00004</td>\n",
       "      <td>C0343</td>\n",
       "      <td>Sports</td>\n",
       "      <td>Yoga Mat</td>\n",
       "      <td>2</td>\n",
       "      <td>374.80</td>\n",
       "      <td>2024-09-08</td>\n",
       "      <td>CA</td>\n",
       "      <td>Standard</td>\n",
       "      <td>749.60</td>\n",
       "    </tr>\n",
       "    <tr>\n",
       "      <th>4</th>\n",
       "      <td>P00005</td>\n",
       "      <td>C0022</td>\n",
       "      <td>Books</td>\n",
       "      <td>Rug</td>\n",
       "      <td>5</td>\n",
       "      <td>311.48</td>\n",
       "      <td>2024-06-28</td>\n",
       "      <td>NY</td>\n",
       "      <td>Express</td>\n",
       "      <td>1557.40</td>\n",
       "    </tr>\n",
       "    <tr>\n",
       "      <th>5</th>\n",
       "      <td>P00006</td>\n",
       "      <td>C0121</td>\n",
       "      <td>Electronics</td>\n",
       "      <td>Basketball</td>\n",
       "      <td>3</td>\n",
       "      <td>31.62</td>\n",
       "      <td>2024-08-28</td>\n",
       "      <td>CA</td>\n",
       "      <td>Overnight</td>\n",
       "      <td>94.86</td>\n",
       "    </tr>\n",
       "    <tr>\n",
       "      <th>11</th>\n",
       "      <td>P00012</td>\n",
       "      <td>C0444</td>\n",
       "      <td>Sports</td>\n",
       "      <td>Cushion</td>\n",
       "      <td>5</td>\n",
       "      <td>54.50</td>\n",
       "      <td>2024-09-27</td>\n",
       "      <td>CA</td>\n",
       "      <td>Overnight</td>\n",
       "      <td>272.50</td>\n",
       "    </tr>\n",
       "    <tr>\n",
       "      <th>16</th>\n",
       "      <td>P00017</td>\n",
       "      <td>C0337</td>\n",
       "      <td>Home &amp; Garden</td>\n",
       "      <td>Garden Tools</td>\n",
       "      <td>3</td>\n",
       "      <td>234.02</td>\n",
       "      <td>2024-11-04</td>\n",
       "      <td>NY</td>\n",
       "      <td>Express</td>\n",
       "      <td>702.06</td>\n",
       "    </tr>\n",
       "  </tbody>\n",
       "</table>\n",
       "</div>"
      ],
      "text/plain": [
       "   purchase_id customer_id product_category  product_name  quantity  \\\n",
       "3       P00004       C0343           Sports      Yoga Mat         2   \n",
       "4       P00005       C0022            Books           Rug         5   \n",
       "5       P00006       C0121      Electronics    Basketball         3   \n",
       "11      P00012       C0444           Sports       Cushion         5   \n",
       "16      P00017       C0337    Home & Garden  Garden Tools         3   \n",
       "\n",
       "    price_per_item purchase_date customer_state shipping_method  total_price  \n",
       "3           374.80    2024-09-08             CA        Standard       749.60  \n",
       "4           311.48    2024-06-28             NY         Express      1557.40  \n",
       "5            31.62    2024-08-28             CA       Overnight        94.86  \n",
       "11           54.50    2024-09-27             CA       Overnight       272.50  \n",
       "16          234.02    2024-11-04             NY         Express       702.06  "
      ]
     },
     "execution_count": 31,
     "metadata": {},
     "output_type": "execute_result"
    }
   ],
   "source": [
    "# TODO: Create 'total_price' column\n",
    "# Hint: df['new_col'] = df['col1'] * df['col2']\n",
    "df_filtered['total_price'] = df_filtered['quantity'] * df_filtered['price_per_item']\n",
    "\n",
    "# TODO: Display the first few rows to verify\n",
    "df_filtered.head()"
   ]
  },
  {
   "cell_type": "markdown",
   "id": "303e3716",
   "metadata": {},
   "source": [
    "### Part B: Calculate Total Revenue by Product Category\n",
    "\n",
    "Group the data by `product_category` and calculate the sum of `total_price` for each category."
   ]
  },
  {
   "cell_type": "code",
   "execution_count": 39,
   "id": "98206c2c",
   "metadata": {},
   "outputs": [
    {
     "data": {
      "text/plain": [
       "product_category\n",
       "Books            670944.49\n",
       "Electronics      667752.29\n",
       "Home & Garden    657306.22\n",
       "Clothing         616055.11\n",
       "Sports           612952.69\n",
       "Name: total_price, dtype: float64"
      ]
     },
     "metadata": {},
     "output_type": "display_data"
    }
   ],
   "source": [
    "# TODO: Group by 'product_category' and sum 'total_price'\n",
    "# Hint: Use .groupby('column')['target'].sum()\n",
    "revenue_by_category = df_filtered.groupby('product_category')['total_price'].sum()  # Replace with your code\n",
    "revenue_by_category\n",
    "# TODO: Sort by revenue (descending)\n",
    "# Hint: Use .sort_values(ascending=False)\n",
    "revenue_by_category.sort_values(ascending=False, inplace=True)\n",
    "# TODO: Display the results\n",
    "display(revenue_by_category)"
   ]
  },
  {
   "cell_type": "markdown",
   "id": "8087c271",
   "metadata": {},
   "source": [
    "### Part C: Find Top 5 Products by Quantity Sold\n",
    "\n",
    "Find the 5 products with the highest total quantity sold."
   ]
  },
  {
   "cell_type": "code",
   "execution_count": 38,
   "id": "fb23e3a1",
   "metadata": {},
   "outputs": [
    {
     "data": {
      "text/plain": [
       "product_name\n",
       "Garden Tools     655\n",
       "Headphones       614\n",
       "Dumbbells        604\n",
       "Cushion          588\n",
       "Tennis Racket    582\n",
       "Name: quantity, dtype: int64"
      ]
     },
     "metadata": {},
     "output_type": "display_data"
    }
   ],
   "source": [
    "# TODO: Group by 'product_name' and sum 'quantity'\n",
    "# TODO: Get the top 5 using .nlargest(5) or .sort_values().head(5)\n",
    "top_5_products = df_filtered.groupby('product_name')['quantity'].sum().nlargest(5)  # Replace with your code\n",
    "\n",
    "# TODO: Display the results\n",
    "display(top_5_products)"
   ]
  },
  {
   "cell_type": "markdown",
   "id": "30f90c4a",
   "metadata": {},
   "source": [
    "### Part D: Save Analysis Results\n",
    "\n",
    "Combine the revenue by category and top 5 products into a summary and save it."
   ]
  },
  {
   "cell_type": "code",
   "execution_count": 43,
   "id": "f54a026f",
   "metadata": {},
   "outputs": [
    {
     "name": "stdout",
     "output_type": "stream",
     "text": [
      "  product_category  total_revenue_by_category   top_products  \\\n",
      "0            Books                  670944.49   Garden Tools   \n",
      "1      Electronics                  667752.29     Headphones   \n",
      "2    Home & Garden                  657306.22      Dumbbells   \n",
      "3         Clothing                  616055.11        Cushion   \n",
      "4           Sports                  612952.69  Tennis Racket   \n",
      "\n",
      "   total_products_by_quantity  \n",
      "0                         655  \n",
      "1                         614  \n",
      "2                         604  \n",
      "3                         588  \n",
      "4                         582  \n"
     ]
    }
   ],
   "source": [
    "# TODO: Create a DataFrame with your analysis results\n",
    "# Hint: You can create a DataFrame with:\n",
    "#   pd.DataFrame({\n",
    "#       'category_revenue': revenue_by_category,\n",
    "#       'top_products': top_5_products  # You may need to reindex or align these\n",
    "#   })\n",
    "#\n",
    "# OR save them separately and combine in a way that makes sense\n",
    "# The tests will check that you saved the correct aggregated data\n",
    "analysis_summary = pd.DataFrame({\n",
    "    'product_category': revenue_by_category.index,\n",
    "    'total_revenue_by_category': revenue_by_category.values,\n",
    "    'top_products': top_5_products.index,  # You may need to reindex or align these\n",
    "    \"total_products_by_quantity\": top_5_products.values\n",
    "})\n",
    "\n",
    "print(analysis_summary)\n",
    "# TODO: Save to 'output/analysis_results.csv'\n",
    "# Make sure the CSV has at least these columns or data:\n",
    "#   - Product categories with their total revenue\n",
    "#   - Top products by quantity\n",
    "# Format the output so the auto-grader can find the aggregated values\n",
    "\n",
    "\n",
    "# TODO: Save analysis_summary or your own structured result\n",
    "analysis_summary.to_csv('output/analysis_results.csv', index=False)"
   ]
  },
  {
   "cell_type": "markdown",
   "id": "efc54d41",
   "metadata": {},
   "source": [
    "**Expected output file:** `output/analysis_results.csv` containing aggregated analysis results (revenue by category, top products)."
   ]
  }
 ],
 "metadata": {
  "kernelspec": {
   "display_name": ".venv",
   "language": "python",
   "name": "python3"
  },
  "language_info": {
   "codemirror_mode": {
    "name": "ipython",
    "version": 3
   },
   "file_extension": ".py",
   "mimetype": "text/x-python",
   "name": "python",
   "nbconvert_exporter": "python",
   "pygments_lexer": "ipython3",
   "version": "3.13.0"
  }
 },
 "nbformat": 4,
 "nbformat_minor": 5
}
